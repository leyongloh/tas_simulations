{
 "cells": [
  {
   "cell_type": "code",
   "execution_count": 1,
   "id": "71593ff8",
   "metadata": {},
   "outputs": [],
   "source": [
    "import matplotlib.pyplot as plt\n",
    "import numpy as np\n",
    "\n",
    "# Calculate intersection given two points on each line\n",
    "\n",
    "# Algorithm to determine on which side of the robot the trajectory is located at\n",
    "# => After determining the intersection between a perpendicular line to the robot's\n",
    "#    orientation and every trajectory, the distance and angle can be used to determine\n",
    "#    on which side of the robot the trajectory is located at\n",
    "\n",
    "# This algorithm is necessary because the original trajectory resolution is very low\n",
    "\n",
    "# https://en.wikipedia.org/wiki/Line%E2%80%93line_intersection"
   ]
  },
  {
   "cell_type": "code",
   "execution_count": 2,
   "id": "c84bfd64",
   "metadata": {},
   "outputs": [
    {
     "data": {
      "image/png": "[encoded data removed]",
      "text/plain": [
       "<Figure size 432x288 with 1 Axes>"
      ]
     },
     "metadata": {
      "needs_background": "light"
     },
     "output_type": "display_data"
    }
   ],
   "source": [
    "# Current Car Position and Orientation\n",
    "\n",
    "current_pos = np.array([0, 24])\n",
    "current_angle = 0.785398\n",
    "unit_vector = [np.cos(current_angle), np.sin(current_angle)]\n",
    "\n",
    "# Plot\n",
    "fig = plt.figure()\n",
    "fig.suptitle('Car Position and Orientation')\n",
    "ax = fig.add_subplot(1, 1, 1)\n",
    "\n",
    "ax.arrow(current_pos[0], current_pos[1], unit_vector[0], \n",
    "         unit_vector[1], head_width=0.2, head_length=0.2, fc='b', ec='b')\n",
    "\n",
    "ax.set_xlim([-3, 3])\n",
    "ax.set_ylim([21, 27])\n",
    "ax.set_aspect('equal')"
   ]
  },
  {
   "cell_type": "code",
   "execution_count": 3,
   "id": "e84e874e",
   "metadata": {},
   "outputs": [
    {
     "name": "stdout",
     "output_type": "stream",
     "text": [
      "P1: [0.0, 24.0]\n",
      "P2: [-0.7071092629909858, 24.7071042993734]\n"
     ]
    },
    {
     "data": {
      "image/png": "[encoded data removed]",
      "text/plain": [
       "<Figure size 432x288 with 1 Axes>"
      ]
     },
     "metadata": {
      "needs_background": "light"
     },
     "output_type": "display_data"
    }
   ],
   "source": [
    "# Define Line Perpenticular to Car Orientation\n",
    "\n",
    "current_angle_perp = current_angle + 1.5708\n",
    "unit_vector_perp = [np.cos(current_angle_perp), np.sin(current_angle_perp)]\n",
    "\n",
    "line1 = np.array([current_pos, current_pos+unit_vector_perp])\n",
    "\n",
    "x1 = line1[0, 0]\n",
    "y1 = line1[0, 1]\n",
    "\n",
    "x2 = line1[1, 0]\n",
    "y2 = line1[1, 1]\n",
    "\n",
    "print(f\"P1: [{x1}, {y1}]\")\n",
    "print(f\"P2: [{x2}, {y2}]\")\n",
    "\n",
    "# Plot\n",
    "fig = plt.figure()\n",
    "fig.suptitle('Line Perpendicular to Car Orientation')\n",
    "ax = fig.add_subplot(1, 1, 1)\n",
    "\n",
    "ax.arrow(current_pos[0], current_pos[1], unit_vector[0], \n",
    "         unit_vector[1], head_width=0.2, head_length=0.2, fc='b', ec='b')\n",
    "ax.plot(line1[:, 0], line1[:, 1], color='green')\n",
    "\n",
    "ax.set_xlim([-3, 3])\n",
    "ax.set_ylim([21, 27])\n",
    "ax.set_aspect('equal')"
   ]
  },
  {
   "cell_type": "code",
   "execution_count": 4,
   "id": "cd2d62cb",
   "metadata": {},
   "outputs": [
    {
     "name": "stdout",
     "output_type": "stream",
     "text": [
      "P3: [-2.5, 24.5312]\n",
      "P4: [2.5, 24.5312]\n"
     ]
    },
    {
     "data": {
      "image/png": "[encoded data removed]",
      "text/plain": [
       "<Figure size 432x288 with 1 Axes>"
      ]
     },
     "metadata": {
      "needs_background": "light"
     },
     "output_type": "display_data"
    }
   ],
   "source": [
    "# Line defined by Trajectory: 2 closest points to Car Position\n",
    "\n",
    "line2 = np.array([[-2.5, 24.5312], [2.5, 24.5312]])\n",
    "\n",
    "x3 = line2[0, 0]\n",
    "y3 = line2[0, 1]\n",
    "\n",
    "x4 = line2[1, 0]\n",
    "y4 = line2[1, 1]\n",
    "\n",
    "print(f\"P3: [{x3}, {y3}]\")\n",
    "print(f\"P4: [{x4}, {y4}]\")\n",
    "\n",
    "# Plot\n",
    "fig = plt.figure()\n",
    "fig.suptitle('Trajectory')\n",
    "ax = fig.add_subplot(1, 1, 1)\n",
    "\n",
    "ax.arrow(current_pos[0], current_pos[1], unit_vector[0], \n",
    "         unit_vector[1], head_width=0.2, head_length=0.2, fc='b', ec='b')\n",
    "ax.plot(line1[:, 0], line1[:, 1], color='green')\n",
    "ax.plot(line2[:, 0], line2[:, 1], color='orange')\n",
    "\n",
    "ax.set_xlim([-3, 3])\n",
    "ax.set_ylim([21, 27])\n",
    "ax.set_aspect('equal')"
   ]
  },
  {
   "cell_type": "code",
   "execution_count": 5,
   "id": "69c9984f",
   "metadata": {},
   "outputs": [
    {
     "name": "stdout",
     "output_type": "stream",
     "text": [
      "[-0.5312037288327413, 24.5312]\n"
     ]
    },
    {
     "data": {
      "image/png": "[encoded data removed]",
      "text/plain": [
       "<Figure size 432x288 with 1 Axes>"
      ]
     },
     "metadata": {
      "needs_background": "light"
     },
     "output_type": "display_data"
    }
   ],
   "source": [
    "# Compute Line Intersection\n",
    "\n",
    "################################\n",
    "dx1 = x1 - x2\n",
    "dx2 = x3 - x4\n",
    "\n",
    "dy1 = y1 - y2\n",
    "dy2 = y3 - y4\n",
    "\n",
    "dm1 = x1*y2 - y1*x2\n",
    "dm2 = x3*y4 - y3*x4\n",
    "\n",
    "D = dx1*dy2 - dy1*dx2\n",
    "\n",
    "px = (dm1*dx2 - dm2*dx1) / D\n",
    "py = (dm1*dy2 - dm2*dy1) / D\n",
    "################################\n",
    "\n",
    "print(f\"[{px}, {py}]\")\n",
    "\n",
    "# Plot\n",
    "fig = plt.figure()\n",
    "fig.suptitle('Perpendicular Intersection with Trajectory')\n",
    "ax = fig.add_subplot(1, 1, 1)\n",
    "\n",
    "ax.arrow(current_pos[0], current_pos[1], unit_vector[0], \n",
    "         unit_vector[1], head_width=0.2, head_length=0.2, fc='b', ec='b')\n",
    "ax.plot(line1[:, 0], line1[:, 1], color='green')\n",
    "ax.plot(line2[:, 0], line2[:, 1], color='orange')\n",
    "ax.plot(px, py, 'ro')\n",
    "\n",
    "ax.set_xlim([-3, 3])\n",
    "ax.set_ylim([21, 27])\n",
    "ax.set_aspect('equal')"
   ]
  }
 ],
 "metadata": {
  "kernelspec": {
   "display_name": "Python 3 (ipykernel)",
   "language": "python",
   "name": "python3"
  },
  "language_info": {
   "codemirror_mode": {
    "name": "ipython",
    "version": 3
   },
   "file_extension": ".py",
   "mimetype": "text/x-python",
   "name": "python",
   "nbconvert_exporter": "python",
   "pygments_lexer": "ipython3",
   "version": "3.8.10"
  }
 },
 "nbformat": 4,
 "nbformat_minor": 5
}
