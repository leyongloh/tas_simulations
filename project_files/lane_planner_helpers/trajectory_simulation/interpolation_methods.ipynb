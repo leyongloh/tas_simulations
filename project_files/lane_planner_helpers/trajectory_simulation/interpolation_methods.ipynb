{
 "cells": [
  {
   "cell_type": "code",
   "execution_count": 1,
   "id": "530b73a3",
   "metadata": {},
   "outputs": [],
   "source": [
    "import matplotlib.pyplot as plt\n",
    "import numpy as np\n",
    "\n",
    "interpolation = 100\n",
    "interpolation_step = 1.0 / interpolation\n",
    "\n",
    "# Simulate and Test possible interpolation methods\n",
    "\n",
    "# Interpolation is used when creating a path between start and goal position\n",
    "\n",
    "# Because the original trajectory resolution is very low, these methods \n",
    "# are necessary to ensure a smooth reference for the MPC Planner to follow\n",
    "\n",
    "# http://paulbourke.net/miscellaneous/interpolation/"
   ]
  },
  {
   "cell_type": "code",
   "execution_count": 2,
   "id": "e4f22ec9",
   "metadata": {},
   "outputs": [],
   "source": [
    "# Interpolation functions\n",
    "\n",
    "def linearInterpolation(p1, p2, alpha):\n",
    "    result_x = p1[0] + alpha * (p2[0] - p1[0])\n",
    "    result_y = p1[1] + alpha * (p2[1] - p1[1])\n",
    "    \n",
    "    return np.array([result_x, result_y])\n",
    "\n",
    "def catmullInterpolation(p0, p1, p2, p3, alpha):\n",
    "    alpha2 = alpha * alpha\n",
    "    alpha3 = alpha * alpha2\n",
    "    \n",
    "    a0x = -0.5*p0[0] + 1.5*p1[0] - 1.5*p2[0] + 0.5*p3[0]\n",
    "    a1x = p0[0] - 2.5*p1[0] + 2*p2[0] - 0.5*p3[0]\n",
    "    a2x = -0.5*p0[0] + 0.5*p2[0]\n",
    "    a3x = p1[0]\n",
    "    \n",
    "    a0y = -0.5*p0[1] + 1.5*p1[1] - 1.5*p2[1] + 0.5*p3[1]\n",
    "    a1y = p0[1] - 2.5*p1[1] + 2*p2[1] - 0.5*p3[1]\n",
    "    a2y = -0.5*p0[1] + 0.5*p2[1]\n",
    "    a3y = p1[1]\n",
    "    \n",
    "    result_x = a0x * alpha3 + a1x * alpha2 + a2x * alpha + a3x\n",
    "    result_y = a0y * alpha3 + a1y * alpha2 + a2y * alpha + a3y\n",
    "    \n",
    "    return np.array([result_x, result_y])\n",
    "\n",
    "def hermiteInterpolation(p0, p1, p2, p3, alpha, bias, tension):\n",
    "    alpha2 = alpha * alpha\n",
    "    alpha3 = alpha * alpha2\n",
    "    \n",
    "    bias_pos = (1 + bias) * (1 - tension) / 2.0\n",
    "    bias_neg = (1 - bias) * (1 - tension) / 2.0 \n",
    "    \n",
    "    m0x = (p1[0] - p0[0]) * bias_pos + (p2[0] - p1[0]) * bias_neg\n",
    "    m1x = (p2[0] - p1[0]) * bias_pos + (p3[0] - p2[0]) * bias_neg\n",
    "    \n",
    "    m0y = (p1[1] - p0[1]) * bias_pos + (p2[1] - p1[1]) * bias_neg\n",
    "    m1y = (p2[1] - p1[1]) * bias_pos + (p3[1] - p2[1]) * bias_neg\n",
    "        \n",
    "    a0 = 2.0 * alpha3 - 3.0 * alpha2 + 1.0\n",
    "    a1 = alpha3 - 2.0 * alpha2 + alpha\n",
    "    a2 = alpha3 - alpha2\n",
    "    a3 = -2.0 * alpha3 + 3.0 * alpha2\n",
    "    \n",
    "    result_x = a0 * p1[0] + a1 * m0x + a2 * m1x + a3 * p2[0]\n",
    "    result_y = a0 * p1[1] + a1 * m0y + a2 * m1y + a3 * p2[1]\n",
    "    \n",
    "    return np.array([result_x, result_y])"
   ]
  },
  {
   "cell_type": "code",
   "execution_count": 3,
   "id": "82139b4c",
   "metadata": {},
   "outputs": [
    {
     "data": {
      "text/plain": [
       "[<matplotlib.lines.Line2D at 0x7ff5f624e9a0>]"
      ]
     },
     "execution_count": 3,
     "metadata": {},
     "output_type": "execute_result"
    },
    {
     "data": {
      "image/png": "[encoded data removed]",
      "text/plain": [
       "<Figure size 432x288 with 1 Axes>"
      ]
     },
     "metadata": {
      "needs_background": "light"
     },
     "output_type": "display_data"
    }
   ],
   "source": [
    "# Raw Trajectory\n",
    "\n",
    "trajectory = np.array([[-76.50974405121956, 18.983996172613875], [-72.20327570130529, 21.50608006418088], [-67.46265869006888, 23.065928504796503], [-62.5, 23.59375], [-57.5, 23.59375], [-52.5, 23.59375]])\n",
    "\n",
    "fig = plt.figure()\n",
    "fig.suptitle('Raw Trajectory')\n",
    "ax = fig.add_subplot(1, 1, 1)\n",
    "\n",
    "ax.plot(trajectory[:, 0], trajectory[:, 1], 'b.')"
   ]
  },
  {
   "cell_type": "code",
   "execution_count": 4,
   "id": "99bbca44",
   "metadata": {},
   "outputs": [
    {
     "data": {
      "text/plain": [
       "[<matplotlib.lines.Line2D at 0x7ff5f3f269a0>]"
      ]
     },
     "execution_count": 4,
     "metadata": {},
     "output_type": "execute_result"
    },
    {
     "data": {
      "image/png": "[encoded data removed]",
      "text/plain": [
       "<Figure size 432x288 with 1 Axes>"
      ]
     },
     "metadata": {
      "needs_background": "light"
     },
     "output_type": "display_data"
    }
   ],
   "source": [
    "# Linear Interpolation\n",
    "\n",
    "trajectory_interpolated = np.zeros((0, 2))\n",
    "\n",
    "for i in range(1, len(trajectory) - 2): \n",
    "    for j in range(interpolation):\n",
    "        point_temp = linearInterpolation(trajectory[i, :], trajectory[i + 1, :], interpolation_step * j)\n",
    "        trajectory_interpolated = np.vstack((trajectory_interpolated, point_temp))\n",
    "        \n",
    "fig = plt.figure()\n",
    "fig.suptitle('Linear Interpolation')\n",
    "ax = fig.add_subplot(1, 1, 1)\n",
    "\n",
    "ax.plot(trajectory_interpolated[:, 0], trajectory_interpolated[:, 1], 'r.')"
   ]
  },
  {
   "cell_type": "code",
   "execution_count": 5,
   "id": "45f72072",
   "metadata": {},
   "outputs": [
    {
     "data": {
      "text/plain": [
       "[<matplotlib.lines.Line2D at 0x7ff5f38656a0>]"
      ]
     },
     "execution_count": 5,
     "metadata": {},
     "output_type": "execute_result"
    },
    {
     "data": {
      "image/png": "[encoded data removed]",
      "text/plain": [
       "<Figure size 432x288 with 1 Axes>"
      ]
     },
     "metadata": {
      "needs_background": "light"
     },
     "output_type": "display_data"
    }
   ],
   "source": [
    "# Catmull Interpolation\n",
    "\n",
    "trajectory_interpolated = np.zeros((0, 2))\n",
    "\n",
    "for i in range(1, len(trajectory) - 2): \n",
    "    for j in range(interpolation):\n",
    "        point_temp = catmullInterpolation(trajectory[i-1, :], \n",
    "                                          trajectory[i, :], \n",
    "                                          trajectory[i+1, :], \n",
    "                                          trajectory[i+2, :], \n",
    "                                          interpolation_step * j)\n",
    "        trajectory_interpolated = np.vstack((trajectory_interpolated, point_temp))\n",
    "\n",
    "fig = plt.figure()\n",
    "fig.suptitle('Catmull Interpolation')\n",
    "ax = fig.add_subplot(1, 1, 1)\n",
    "ax.plot(trajectory_interpolated[:, 0], trajectory_interpolated[:, 1], 'r.')"
   ]
  },
  {
   "cell_type": "code",
   "execution_count": 6,
   "id": "e4a98681",
   "metadata": {},
   "outputs": [
    {
     "data": {
      "text/plain": [
       "[<matplotlib.lines.Line2D at 0x7ff5f382eca0>]"
      ]
     },
     "execution_count": 6,
     "metadata": {},
     "output_type": "execute_result"
    },
    {
     "data": {
      "image/png": "[encoded data removed]",
      "text/plain": [
       "<Figure size 432x288 with 1 Axes>"
      ]
     },
     "metadata": {
      "needs_background": "light"
     },
     "output_type": "display_data"
    }
   ],
   "source": [
    "# Hermite Interpolation\n",
    "\n",
    "bias = 0\n",
    "tension = 0.0\n",
    "\n",
    "trajectory_interpolated = np.zeros((0, 2))\n",
    "\n",
    "for i in range(1, len(trajectory) - 2): \n",
    "    for j in range(interpolation):\n",
    "        point_temp = hermiteInterpolation(trajectory[i-1, :], \n",
    "                                          trajectory[i, :], \n",
    "                                          trajectory[i+1, :], \n",
    "                                          trajectory[i+2, :], \n",
    "                                          interpolation_step * j,\n",
    "                                          bias,\n",
    "                                          tension)\n",
    "        trajectory_interpolated = np.vstack((trajectory_interpolated, point_temp))\n",
    "\n",
    "fig = plt.figure()\n",
    "fig.suptitle('Hermite Interpolation')\n",
    "ax = fig.add_subplot(1, 1, 1)\n",
    "ax.plot(trajectory_interpolated[:, 0], trajectory_interpolated[:, 1], 'r.')"
   ]
  }
 ],
 "metadata": {
  "kernelspec": {
   "display_name": "Python 3 (ipykernel)",
   "language": "python",
   "name": "python3"
  },
  "language_info": {
   "codemirror_mode": {
    "name": "ipython",
    "version": 3
   },
   "file_extension": ".py",
   "mimetype": "text/x-python",
   "name": "python",
   "nbconvert_exporter": "python",
   "pygments_lexer": "ipython3",
   "version": "3.8.10"
  }
 },
 "nbformat": 4,
 "nbformat_minor": 5
}
