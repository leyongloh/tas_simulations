{
 "cells": [
  {
   "cell_type": "code",
   "execution_count": 46,
   "id": "a6d89745",
   "metadata": {},
   "outputs": [],
   "source": [
    "# Here the actual code from the Laser_checker is implemeted and the zones can be vizualized\n",
    "import numpy as np\n",
    "import matplotlib.pyplot as plt\n",
    "\n",
    "xy_points = np.genfromtxt('Example_xy.csv', delimiter=',')"
   ]
  },
  {
   "cell_type": "code",
   "execution_count": 47,
   "id": "8c2bc77a-eae3-435a-ae43-55095538d0be",
   "metadata": {},
   "outputs": [],
   "source": [
    "x = np.linspace(-5, 10, 101)\n",
    "y = np.linspace(-10, 10, 101)\n",
    "xx, yy = np.meshgrid(x, y)\n",
    "xx_flat = xx.flatten()\n",
    "yy_flat = yy.flatten()\n",
    "#xy_points = np.transpose(np.array([xx_flat,yy_flat])) # Comment out to use the real points"
   ]
  },
  {
   "cell_type": "code",
   "execution_count": 48,
   "id": "e2b58c27",
   "metadata": {},
   "outputs": [
    {
     "data": {
      "text/plain": [
       "<matplotlib.collections.PathCollection at 0x7fe2269e5760>"
      ]
     },
     "execution_count": 48,
     "metadata": {},
     "output_type": "execute_result"
    },
    {
     "data": {
      "image/png": "[encoded data removed]",
      "text/plain": [
       "<Figure size 432x288 with 1 Axes>"
      ]
     },
     "metadata": {
      "needs_background": "light"
     },
     "output_type": "display_data"
    }
   ],
   "source": [
    "plt.scatter(xy_points[:,0], xy_points[:,1])"
   ]
  },
  {
   "cell_type": "code",
   "execution_count": 49,
   "id": "499f7dd0",
   "metadata": {
    "scrolled": true
   },
   "outputs": [],
   "source": [
    "#FRONT\n",
    "front = xy_points[xy_points[:, 0] > 0, :]\n",
    "front = front[front[:, 0] < 10, :]\n",
    "\n",
    "# plt.scatter(front[:,0], front[:,1])"
   ]
  },
  {
   "cell_type": "code",
   "execution_count": 50,
   "id": "2e5e0563-e635-4550-94e0-3eeafdf1ed8e",
   "metadata": {},
   "outputs": [],
   "source": [
    "# Paramter set\n",
    "curve_radius = 25\n",
    "curve = -np.pi/6;\n",
    "lane_offset = 0.1\n",
    "lane_width = 2\n",
    "\n",
    "# mask calculation: comment to change mode\n",
    "#mask_front = front[:, 0]*np.tan(curve) # Square mode\n",
    "mask_front = (np.sqrt(np.square(curve_radius)-np.square(front[:, 0]))-curve_radius) # Curve Mode"
   ]
  },
  {
   "cell_type": "code",
   "execution_count": 51,
   "id": "a8e0a1d2-b25d-462e-92b2-5cd6f58b1d56",
   "metadata": {},
   "outputs": [
    {
     "data": {
      "image/png": "[encoded data removed]",
      "text/plain": [
       "<Figure size 432x288 with 1 Axes>"
      ]
     },
     "metadata": {
      "needs_background": "light"
     },
     "output_type": "display_data"
    }
   ],
   "source": [
    "# FRONT LEFT (ZONE 0)\n",
    "front_left = front[(mask_front+1.5*lane_width-lane_offset) >= front[:, 1], :]\n",
    "mask_front_temp = mask_front[(mask_front+1.5*lane_width-lane_offset) >= front[:, 1]]\n",
    "front_left = front_left[(mask_front_temp+0.5*lane_width+lane_offset) < front_left[:, 1], :]\n",
    "\n",
    "# FRONT MIDDLE (ZONE 1)\n",
    "front_middle = front[(mask_front+0.5*lane_width-lane_offset)>= front[:, 1], :]\n",
    "mask_front_temp = mask_front[(mask_front+0.5*lane_width-lane_offset)>= front[:, 1]]\n",
    "front_middle = front_middle[(mask_front_temp-0.5*lane_width+lane_offset) <= front_middle[:, 1]]\n",
    "\n",
    "# FRONT RIGHT (ZONE 2)\n",
    "front_right = front[(mask_front-0.5*lane_width-lane_offset) > front[:, 1], :]\n",
    "mask_front_temp = mask_front[(mask_front-0.5*lane_width-lane_offset) > front[:, 1]]\n",
    "front_right = front_right[(mask_front_temp-1.5*lane_width+lane_offset) <= front_right[:, 1], :]\n",
    "\n",
    "plt.scatter(front_left[:,0], front_left[:,1])\n",
    "plt.scatter(front_middle[:,0], front_middle[:,1])\n",
    "plt.scatter(front_right[:,0], front_right[:,1])\n",
    "plt.show()"
   ]
  },
  {
   "cell_type": "code",
   "execution_count": 52,
   "id": "cea2b6eb-a29e-4f11-b4c8-fe675dcfbf0a",
   "metadata": {},
   "outputs": [
    {
     "data": {
      "image/png": "[encoded data removed]",
      "text/plain": [
       "<Figure size 432x288 with 1 Axes>"
      ]
     },
     "metadata": {
      "needs_background": "light"
     },
     "output_type": "display_data"
    }
   ],
   "source": [
    "# Viz of the BACK AND SIDE\n",
    "back_side = xy_points[xy_points[:, 0] <= 0, :]\n",
    "\n",
    "back_side = back_side[np.abs(back_side[:, 1]) <= 4.5,:]\n",
    "plt.scatter(back_side[:,0], back_side[:,1])\n",
    "plt.show()"
   ]
  },
  {
   "cell_type": "code",
   "execution_count": 53,
   "id": "fad38382",
   "metadata": {},
   "outputs": [
    {
     "data": {
      "image/png": "[encoded data removed]",
      "text/plain": [
       "<Figure size 432x288 with 1 Axes>"
      ]
     },
     "metadata": {
      "needs_background": "light"
     },
     "output_type": "display_data"
    }
   ],
   "source": [
    "# Viz of the SIDE\n",
    "side = back_side[back_side[:, 0] >= -0.4, :]\n",
    "\n",
    "side_left = side[side[:, 1] > 0, :]\n",
    "side_right = side[side[:, 1] < 0, :]  # CHECK AGAIN\n",
    "plt.scatter(side_left[:,0], side_left[:,1])\n",
    "plt.scatter(side_right[:,0], side_right[:,1])\n",
    "plt.show()"
   ]
  },
  {
   "cell_type": "code",
   "execution_count": 54,
   "id": "7a8a9547",
   "metadata": {},
   "outputs": [
    {
     "data": {
      "image/png": "[encoded data removed]",
      "text/plain": [
       "<Figure size 432x288 with 1 Axes>"
      ]
     },
     "metadata": {
      "needs_background": "light"
     },
     "output_type": "display_data"
    }
   ],
   "source": [
    "# Viz of the BACK\n",
    "back = back_side[back_side[:, 0] < -0.4, :]\n",
    "\n",
    "back_left = back[back[:, 1] > 0.5*3, :]\n",
    "\n",
    "back_middle = back[back[:, 1] <= 0.5*3, :]\n",
    "back_middle = back_middle[back_middle[:, 1] >= -0.5*3, :]\n",
    "\n",
    "back_right = back[back[:, 1] < -0.5*3, :]\n",
    "\n",
    "plt.scatter(back_left[:,0], back_left[:,1])\n",
    "plt.scatter(back_middle[:,0], back_middle[:,1])\n",
    "plt.scatter(back_right[:,0], back_right[:,1])\n",
    "plt.show()"
   ]
  },
  {
   "cell_type": "code",
   "execution_count": null,
   "id": "0668234e",
   "metadata": {},
   "outputs": [],
   "source": []
  }
 ],
 "metadata": {
  "kernelspec": {
   "display_name": "Python 3 (ipykernel)",
   "language": "python",
   "name": "python3"
  },
  "language_info": {
   "codemirror_mode": {
    "name": "ipython",
    "version": 3
   },
   "file_extension": ".py",
   "mimetype": "text/x-python",
   "name": "python",
   "nbconvert_exporter": "python",
   "pygments_lexer": "ipython3",
   "version": "3.8.10"
  }
 },
 "nbformat": 4,
 "nbformat_minor": 5
}
