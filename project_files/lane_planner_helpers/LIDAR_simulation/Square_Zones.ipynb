{
 "cells": [
  {
   "cell_type": "code",
   "execution_count": 1,
   "id": "e19a35ef-93a8-4851-aaa2-e7228792ac71",
   "metadata": {},
   "outputs": [],
   "source": [
    "import numpy as np\n",
    "import matplotlib.pyplot as plt\n",
    "## This script shows how the curved zones are calculated in the Laser_checker.py file\n",
    "# It uses a given radius"
   ]
  },
  {
   "cell_type": "code",
   "execution_count": 2,
   "id": "43d2453c-524e-4471-8d45-1ec1becfe51d",
   "metadata": {},
   "outputs": [
    {
     "data": {
      "image/png": "[encoded data removed]",
      "text/plain": [
       "<Figure size 432x288 with 1 Axes>"
      ]
     },
     "metadata": {
      "needs_background": "light"
     },
     "output_type": "display_data"
    }
   ],
   "source": [
    "# Generate a matrix of points for testing\n",
    "x = np.linspace(-5, 5, 101)\n",
    "y = np.linspace(0, 10, 101)\n",
    "xx, yy = np.meshgrid(x, y)\n",
    "xx_flat = xx.flatten()\n",
    "yy_flat = yy.flatten()\n",
    "\n",
    "plt.scatter(xx_flat,yy_flat)\n",
    "plt.grid()"
   ]
  },
  {
   "cell_type": "code",
   "execution_count": 3,
   "id": "fb89c73b-450b-41a7-84ff-5e48ab9f7230",
   "metadata": {},
   "outputs": [],
   "source": [
    "# Calcualte the allowed x cordinate for a given y cordiate using tan(wheelangle)\n",
    "wheelangle =np.pi/8 # Change anlge to see how the zones change\n",
    "xx_curve = yy_flat*np.tan(wheelangle)\n",
    "\n",
    "# Shift result for every upper boundary of the front three zones and only use points that are under the threshold\n",
    "xx_zone_0 = xx_flat[xx_curve+1.5>=xx_flat]\n",
    "yy_zone_0 = yy_flat[xx_curve+1.5>=xx_flat]\n",
    "xx_curve_0 = xx_curve[xx_curve+1.5>=xx_flat] #elimination of to big parts of xx_flat\n",
    "\n",
    "xx_zone_1 = xx_flat[xx_curve+0.5>=xx_flat]\n",
    "yy_zone_1 = yy_flat[xx_curve+0.5>=xx_flat]\n",
    "xx_curve_1 = xx_curve[xx_curve+0.5>=xx_flat]\n",
    "\n",
    "xx_zone_2 = xx_flat[xx_curve-0.5>=xx_flat]\n",
    "yy_zone_2 = yy_flat[xx_curve-0.5>=xx_flat]\n",
    "xx_curve_2 = xx_curve[xx_curve-0.5>=xx_flat]"
   ]
  },
  {
   "cell_type": "code",
   "execution_count": 4,
   "id": "25d26085-24fa-4f5c-8ba1-6cea73b0e7b9",
   "metadata": {},
   "outputs": [],
   "source": [
    "# Now elimination of everything under the lower threshold\n",
    "xx_zone_0_f = xx_zone_0[(xx_curve_0+0.5) <=xx_zone_0]\n",
    "yy_zone_0_f = yy_zone_0[(xx_curve_0+0.5) <=xx_zone_0]\n",
    "\n",
    "xx_zone_1_f = xx_zone_1[(xx_curve_1-0.5) <=xx_zone_1]\n",
    "yy_zone_1_f = yy_zone_1[(xx_curve_1-0.5) <=xx_zone_1]\n",
    "\n",
    "xx_zone_2_f = xx_zone_2[(xx_curve_2-1.5) <=xx_zone_2]\n",
    "yy_zone_2_f = yy_zone_2[(xx_curve_2-1.5) <=xx_zone_2]"
   ]
  },
  {
   "cell_type": "code",
   "execution_count": 5,
   "id": "6ed351fd-e33a-4a7a-b1d3-e809ba4d0309",
   "metadata": {},
   "outputs": [
    {
     "data": {
      "image/png": "[encoded data removed]",
      "text/plain": [
       "<Figure size 432x288 with 1 Axes>"
      ]
     },
     "metadata": {
      "needs_background": "light"
     },
     "output_type": "display_data"
    }
   ],
   "source": [
    "# Plot on how the actual zones are surpossed to look like\n",
    "plt.scatter(xx_zone_0_f,yy_zone_0_f)\n",
    "plt.scatter(xx_zone_1_f,yy_zone_1_f)\n",
    "plt.scatter(xx_zone_2_f,yy_zone_2_f)\n",
    "plt.grid()"
   ]
  },
  {
   "cell_type": "code",
   "execution_count": null,
   "id": "14a733fb-a7ef-4f39-ba85-983d3c1131b1",
   "metadata": {},
   "outputs": [],
   "source": []
  }
 ],
 "metadata": {
  "kernelspec": {
   "display_name": "Python 3 (ipykernel)",
   "language": "python",
   "name": "python3"
  },
  "language_info": {
   "codemirror_mode": {
    "name": "ipython",
    "version": 3
   },
   "file_extension": ".py",
   "mimetype": "text/x-python",
   "name": "python",
   "nbconvert_exporter": "python",
   "pygments_lexer": "ipython3",
   "version": "3.8.10"
  }
 },
 "nbformat": 4,
 "nbformat_minor": 5
}
